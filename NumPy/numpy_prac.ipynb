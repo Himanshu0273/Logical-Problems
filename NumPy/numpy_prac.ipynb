{
 "cells": [
  {
   "cell_type": "markdown",
   "id": "e42dc335",
   "metadata": {},
   "source": [
    "# Practice Problems"
   ]
  },
  {
   "cell_type": "code",
   "execution_count": 1,
   "id": "a32b6837",
   "metadata": {},
   "outputs": [],
   "source": [
    "import numpy as np"
   ]
  },
  {
   "cell_type": "code",
   "execution_count": 9,
   "id": "8ac432b7",
   "metadata": {},
   "outputs": [
    {
     "data": {
      "text/plain": [
       "True"
      ]
     },
     "execution_count": 9,
     "metadata": {},
     "output_type": "execute_result"
    }
   ],
   "source": [
    "nums = np.array([0,2,0,0])\n",
    "np.all(nums)\n",
    "np.any(nums!=0)"
   ]
  },
  {
   "cell_type": "markdown",
   "id": "77e3df56",
   "metadata": {},
   "source": [
    "# Practice Probs.com"
   ]
  },
  {
   "cell_type": "markdown",
   "id": "522c036f",
   "metadata": {},
   "source": [
    "Question 1: With your high school reunion fast approaching, you decide to get in shape and lose some weight . You record your weight every day for five weeks starting on a Monday."
   ]
  },
  {
   "cell_type": "code",
   "execution_count": null,
   "id": "dab90251",
   "metadata": {},
   "outputs": [
    {
     "data": {
      "text/plain": [
       "array([ 0,  1,  2,  3,  4,  5,  6,  7,  8,  9, 10, 11, 12, 13, 14, 15, 16,\n",
       "       17, 18, 19, 20, 21, 22, 23, 24, 25, 26, 27, 28, 29, 30, 31, 32, 33,\n",
       "       34])"
      ]
     },
     "execution_count": 14,
     "metadata": {},
     "output_type": "execute_result"
    }
   ],
   "source": [
    "dailywts = 185-np.arange(5*7)/5\n",
    "dailywts"
   ]
  },
  {
   "cell_type": "markdown",
   "id": "b7cd307a",
   "metadata": {},
   "source": [
    "Question 2: Make the following 4x7 array called nola that starts with 1 and steps by 2. However, note that the first element in each row is always 4 more than the last element in the previous row."
   ]
  },
  {
   "cell_type": "code",
   "execution_count": 29,
   "id": "740a9a5d",
   "metadata": {},
   "outputs": [
    {
     "data": {
      "text/plain": [
       "array([[ 1,  3,  5,  7,  9, 11, 13],\n",
       "       [17, 19, 21, 23, 25, 27, 29],\n",
       "       [33, 35, 37, 39, 41, 43, 45],\n",
       "       [49, 51, 53, 55, 57, 59, 61]])"
      ]
     },
     "execution_count": 29,
     "metadata": {},
     "output_type": "execute_result"
    }
   ],
   "source": [
    "x = np.arange(1,65,2).reshape(4,-1)\n",
    "x = x[:,:-1]\n",
    "x"
   ]
  },
  {
   "cell_type": "markdown",
   "id": "46479b50",
   "metadata": {},
   "source": [
    "Question 3: After binge watching the discovery channel, you ditch your job as a trial lawyer to become a gold miner  . You decide to prospect five locations underneath a 7x7 grid of land. How much gold do you uncover at each location?"
   ]
  },
  {
   "cell_type": "code",
   "execution_count": null,
   "id": "e753918e",
   "metadata": {},
   "outputs": [],
   "source": []
  }
 ],
 "metadata": {
  "kernelspec": {
   "display_name": "Python 3",
   "language": "python",
   "name": "python3"
  },
  "language_info": {
   "codemirror_mode": {
    "name": "ipython",
    "version": 3
   },
   "file_extension": ".py",
   "mimetype": "text/x-python",
   "name": "python",
   "nbconvert_exporter": "python",
   "pygments_lexer": "ipython3",
   "version": "3.10.6"
  }
 },
 "nbformat": 4,
 "nbformat_minor": 5
}
