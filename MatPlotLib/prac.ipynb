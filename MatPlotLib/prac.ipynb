// #Basics of MatPlotLib 

import matplotlib.pyplot as plt

x = [1,2,3]
y = [2,4,7]
plt.plot(x,y)


plt.title("First Graph", fontdict={'fontname': 'Comic Sans MS', 'fontsize': 30})
plt.xlabel("X-Axis")
plt.ylabel("Y-Axis")
plt.show()